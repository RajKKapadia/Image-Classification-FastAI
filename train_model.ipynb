{
 "cells": [
  {
   "cell_type": "markdown",
   "metadata": {},
   "source": [
    "#### Load packages"
   ]
  },
  {
   "cell_type": "code",
   "execution_count": 2,
   "metadata": {},
   "outputs": [],
   "source": [
    "import os\n",
    "\n",
    "from fastai.vision.all import *\n",
    "from fastai.vision import *\n",
    "\n",
    "import pandas as pd"
   ]
  },
  {
   "cell_type": "markdown",
   "metadata": {},
   "source": [
    "#### Create CSV file\n",
    "\n",
    "Since the [ImageDataLoader](https://docs.fast.ai/vision.data.html#imagedataloaders.from_folder) requires dataset in specific format.\n",
    "* it needs one class images in to the folder named of that class\n",
    "* also a `labels.csv` file with two columns `name` and `label` where `name` is the path of the image and `label` is the label.\n",
    "\n",
    "So, our dataset is in the following format... we need a create a `labels.csv` file in the folder\n",
    "\n",
    "    dataset\n",
    "        train \n",
    "            class_one\n",
    "                images\n",
    "                ...\n",
    "            class_two\n",
    "                images\n",
    "                ...\n",
    "            labels.csv\n",
    "        valid\n",
    "            class_one\n",
    "                images\n",
    "                ...\n",
    "            class_two\n",
    "                images\n",
    "                ...\n",
    "            labels.csv"
   ]
  },
  {
   "cell_type": "code",
   "execution_count": null,
   "metadata": {},
   "outputs": [],
   "source": [
    "def create_labels_csv_file(dataset_path: str) -> None:\n",
    "    class_names = []\n",
    "    for folder_name in os.listdir(dataset_path):\n",
    "        class_names.append(folder_name)\n",
    "\n",
    "    image_paths = []\n",
    "    labels = []\n",
    "\n",
    "    for i in range(len(class_names)):\n",
    "        class_name = class_names[i]\n",
    "        if '.csv' in os.path.basename(class_name):\n",
    "            continue\n",
    "        image_names = os.listdir(\n",
    "            os.path.join(\n",
    "                dataset_path,\n",
    "                class_name\n",
    "            )\n",
    "        )\n",
    "        for image_name in image_names:\n",
    "            image_path = os.path.join(\n",
    "                dataset_path,\n",
    "                class_name,\n",
    "                image_name\n",
    "            )\n",
    "            image_paths.append(image_path)\n",
    "            labels.append(i)\n",
    "\n",
    "    df = pd.DataFrame(\n",
    "        {\n",
    "            'name': image_paths,\n",
    "            'label': labels\n",
    "        }\n",
    "    )\n",
    "\n",
    "    df.to_csv(\n",
    "        path_or_buf=os.path.join(\n",
    "            dataset_path,\n",
    "            'labels.csv'\n",
    "        ),\n",
    "        index=False\n",
    "    )"
   ]
  },
  {
   "cell_type": "code",
   "execution_count": null,
   "metadata": {},
   "outputs": [],
   "source": [
    "create_labels_csv_file(\n",
    "    dataset_path=os.path.join(\n",
    "        'dataset',\n",
    "        'train'\n",
    "    )\n",
    ")\n",
    "\n",
    "create_labels_csv_file(\n",
    "    dataset_path=os.path.join(\n",
    "        'dataset',\n",
    "        'valid'\n",
    "    )\n",
    ")"
   ]
  },
  {
   "cell_type": "markdown",
   "metadata": {},
   "source": [
    "#### Load the data"
   ]
  },
  {
   "cell_type": "code",
   "execution_count": null,
   "metadata": {},
   "outputs": [],
   "source": [
    "dls = ImageDataLoaders.from_folder(\n",
    "    path='dataset',\n",
    "    train='train',\n",
    "    valid='valid',\n",
    "    item_tfms=Resize(224),\n",
    "    bs=16,\n",
    "    batch_tfms=[Normalize.from_stats(*imagenet_stats), RandTransform()]\n",
    ")"
   ]
  },
  {
   "cell_type": "markdown",
   "metadata": {},
   "source": [
    "#### Let's see the images"
   ]
  },
  {
   "cell_type": "code",
   "execution_count": null,
   "metadata": {},
   "outputs": [],
   "source": [
    "dls.valid.show_batch()"
   ]
  },
  {
   "cell_type": "code",
   "execution_count": null,
   "metadata": {},
   "outputs": [],
   "source": [
    "dls.train.show_batch()"
   ]
  },
  {
   "cell_type": "markdown",
   "metadata": {},
   "source": [
    "#### Build a model"
   ]
  },
  {
   "cell_type": "code",
   "execution_count": null,
   "metadata": {},
   "outputs": [],
   "source": [
    "model = vision_learner(\n",
    "    dls=dls,\n",
    "    arch=models.resnet50,\n",
    "    metrics=[accuracy, error_rate]\n",
    ")"
   ]
  },
  {
   "cell_type": "markdown",
   "metadata": {},
   "source": [
    "#### Train the model"
   ]
  },
  {
   "cell_type": "code",
   "execution_count": null,
   "metadata": {},
   "outputs": [],
   "source": [
    "model.fine_tune(\n",
    "    epochs=1\n",
    ")"
   ]
  },
  {
   "cell_type": "markdown",
   "metadata": {},
   "source": [
    "#### Let's see the results"
   ]
  },
  {
   "cell_type": "code",
   "execution_count": null,
   "metadata": {},
   "outputs": [],
   "source": [
    "model.show_results()"
   ]
  },
  {
   "cell_type": "code",
   "execution_count": null,
   "metadata": {},
   "outputs": [],
   "source": [
    "model.validate()"
   ]
  },
  {
   "cell_type": "markdown",
   "metadata": {},
   "source": [
    "#### Save the model"
   ]
  },
  {
   "cell_type": "code",
   "execution_count": null,
   "metadata": {},
   "outputs": [],
   "source": [
    "model.export('intel_scene_classifier.pkl')"
   ]
  },
  {
   "cell_type": "markdown",
   "metadata": {},
   "source": [
    "#### Load the model"
   ]
  },
  {
   "cell_type": "code",
   "execution_count": null,
   "metadata": {},
   "outputs": [],
   "source": [
    "new_model = load_learner('dataset\\intel_scene_classifier.pkl')"
   ]
  },
  {
   "cell_type": "markdown",
   "metadata": {},
   "source": [
    "#### Predict on a single image"
   ]
  },
  {
   "cell_type": "code",
   "execution_count": null,
   "metadata": {},
   "outputs": [],
   "source": [
    "new_model.predict(\n",
    "    item='dataset/test/test/24298.jpg'\n",
    ")"
   ]
  },
  {
   "cell_type": "code",
   "execution_count": null,
   "metadata": {},
   "outputs": [],
   "source": []
  }
 ],
 "metadata": {
  "kernelspec": {
   "display_name": "Python 3.8.13 ('envpytorch38')",
   "language": "python",
   "name": "python3"
  },
  "language_info": {
   "codemirror_mode": {
    "name": "ipython",
    "version": 3
   },
   "file_extension": ".py",
   "mimetype": "text/x-python",
   "name": "python",
   "nbconvert_exporter": "python",
   "pygments_lexer": "ipython3",
   "version": "3.8.13"
  },
  "orig_nbformat": 4,
  "vscode": {
   "interpreter": {
    "hash": "4078cebf655c26f95bd10b621567232ce14dbc5f450be1ca04c79657037f6c96"
   }
  }
 },
 "nbformat": 4,
 "nbformat_minor": 2
}
